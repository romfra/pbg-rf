{
 "cells": [
  {
   "cell_type": "code",
   "execution_count": 3,
   "metadata": {},
   "outputs": [],
   "source": [
    "library(dplyr) \n",
    "library(reshape2)"
   ]
  },
  {
   "cell_type": "code",
   "execution_count": 4,
   "metadata": {},
   "outputs": [],
   "source": [
    "# I analyzed the same datasets used in CA4.\n",
    "# Data are related to the Covid pandemic and I tried to understand if the trend of cases/deaths has been impacted by the\n",
    "# different categories of measures implemented by each country government.\n",
    "# I used four different dataset: 1- Government measures dataset provided by ACAPS; 2/3- Time series of confirmed \n",
    "# cases/deaths provided by CSSE (John Hopkins); 4-Mapping file of country/region provided by https://ourworldindata.org/"
   ]
  },
  {
   "cell_type": "code",
   "execution_count": 5,
   "metadata": {},
   "outputs": [],
   "source": [
    "# Load the measures file and create a dataframe\n",
    "measures <- read.csv(\"C:\\\\Users\\\\Romina\\\\Desktop\\\\DBSCourse\\\\ProgrammingBigData\\\\CA5\\\\acaps_covid19_government_measures_dataset.csv\", sep = \";\", header = TRUE)\n",
    "\n",
    "df_measures <- data.frame(measures)"
   ]
  },
  {
   "cell_type": "code",
   "execution_count": 6,
   "metadata": {},
   "outputs": [
    {
     "name": "stdout",
     "output_type": "stream",
     "text": [
      "'data.frame':\t11200 obs. of  17 variables:\n",
      " $ ID                : int  1 2 3 4 5 6 8 10 12 17 ...\n",
      " $ COUNTRY           : Factor w/ 196 levels \"Afghanistan\",..: 1 1 1 1 1 1 1 1 1 1 ...\n",
      " $ ISO               : Factor w/ 193 levels \"AFG\",\"AGO\",\"ALB\",..: 1 1 1 1 1 1 1 1 1 1 ...\n",
      " $ ADMIN_LEVEL_NAME  : Factor w/ 595 levels \"\",\" \",\" Al-Qatif \",..: 1 246 1 1 1 1 221 221 1 1 ...\n",
      " $ PCODE             : logi  NA NA NA NA NA NA ...\n",
      " $ REGION            : Factor w/ 6 levels \"Africa\",\"Americas\",..: 3 3 3 3 3 3 3 3 3 3 ...\n",
      " $ LOG_TYPE          : Factor w/ 2 levels \"Introduction / extension of measures\",..: 1 1 1 1 1 1 1 1 1 1 ...\n",
      " $ CATEGORY          : Factor w/ 6 levels \"Governance and socio-economic measures\",..: 5 5 5 1 6 4 6 6 5 1 ...\n",
      " $ MEASURE           : Factor w/ 41 levels \"Additional health/documents requirements upon arrival\",..: 18 21 3 14 24 5 34 24 37 22 ...\n",
      " $ TARGETED_POP_GROUP: Factor w/ 3 levels \"No\",\"No \",\"Yes\": 1 1 1 1 1 1 1 1 1 1 ...\n",
      " $ COMMENTS          : Factor w/ 10877 levels \"\",\"-Hairdressing salons/barber shops/ beauty salons (as of May 21)\",..: 1 1 1 1 6536 2549 1 1317 1 4204 ...\n",
      " $ NON_COMPLIANCE    : Factor w/ 13 levels \"\",\"Arrest/Detention\",..: 1 1 1 1 1 1 1 1 1 1 ...\n",
      " $ DATE_IMPLEMENTED  : Factor w/ 152 levels \"\",\"01/01/2020\",..: 61 61 61 61 62 117 4 4 4 4 ...\n",
      " $ SOURCE            : Factor w/ 1230 levels \"\",\" Foreign Affairs, Foreign Trade and Development Cooperation\",..: 671 671 671 671 8 457 837 837 837 1138 ...\n",
      " $ SOURCE_TYPE       : Factor w/ 8 levels \"\",\"Government\",..: 2 2 2 2 3 3 8 8 8 2 ...\n",
      " $ LINK              : Factor w/ 6633 levels \"\",\"Canada Emergency Response Benefit for individuals and families \",..: 2142 2142 2142 2142 2925 6185 2429 2429 2430 1132 ...\n",
      " $ ENTRY_DATE        : Factor w/ 63 levels \"01/04/2020\",\"01/05/2020\",..: 24 24 24 24 24 24 24 24 24 24 ...\n"
     ]
    }
   ],
   "source": [
    "# Let's have a look at the dataframe structure\n",
    "str(df_measures)"
   ]
  },
  {
   "cell_type": "code",
   "execution_count": 7,
   "metadata": {},
   "outputs": [
    {
     "data": {
      "text/html": [
       "<table>\n",
       "<thead><tr><th scope=col>ID</th><th scope=col>COUNTRY</th><th scope=col>ISO</th><th scope=col>ADMIN_LEVEL_NAME</th><th scope=col>PCODE</th><th scope=col>REGION</th><th scope=col>LOG_TYPE</th><th scope=col>CATEGORY</th><th scope=col>MEASURE</th><th scope=col>TARGETED_POP_GROUP</th><th scope=col>COMMENTS</th><th scope=col>NON_COMPLIANCE</th><th scope=col>DATE_IMPLEMENTED</th><th scope=col>SOURCE</th><th scope=col>SOURCE_TYPE</th><th scope=col>LINK</th><th scope=col>ENTRY_DATE</th></tr></thead>\n",
       "<tbody>\n",
       "\t<tr><td>1                                                                                                                         </td><td>Afghanistan                                                                                                               </td><td>AFG                                                                                                                       </td><td>                                                                                                                          </td><td>NA                                                                                                                        </td><td>Asia                                                                                                                      </td><td>Introduction / extension of measures                                                                                      </td><td>Public health measures                                                                                                    </td><td>Health screenings in airports and border crossings                                                                        </td><td>No                                                                                                                        </td><td>                                                                                                                          </td><td>                                                                                                                          </td><td>12/02/2020                                                                                                                </td><td>Ministry of Health                                                                                                        </td><td>Government                                                                                                                </td><td>https://moph.gov.af/en/moph-held-emergency-meeting-international-health-partners-fight-against-spread-and-control-covid-19</td><td>14/03/2020                                                                                                                </td></tr>\n",
       "\t<tr><td>2                                                                                                                         </td><td>Afghanistan                                                                                                               </td><td>AFG                                                                                                                       </td><td>Kabul                                                                                                                     </td><td>NA                                                                                                                        </td><td>Asia                                                                                                                      </td><td>Introduction / extension of measures                                                                                      </td><td>Public health measures                                                                                                    </td><td>Isolation and quarantine policies                                                                                         </td><td>No                                                                                                                        </td><td>                                                                                                                          </td><td>                                                                                                                          </td><td>12/02/2020                                                                                                                </td><td>Ministry of Health                                                                                                        </td><td>Government                                                                                                                </td><td>https://moph.gov.af/en/moph-held-emergency-meeting-international-health-partners-fight-against-spread-and-control-covid-19</td><td>14/03/2020                                                                                                                </td></tr>\n",
       "\t<tr><td>3                                                                                                                         </td><td>Afghanistan                                                                                                               </td><td>AFG                                                                                                                       </td><td>                                                                                                                          </td><td>NA                                                                                                                        </td><td>Asia                                                                                                                      </td><td>Introduction / extension of measures                                                                                      </td><td>Public health measures                                                                                                    </td><td>Awareness campaigns                                                                                                       </td><td>No                                                                                                                        </td><td>                                                                                                                          </td><td>                                                                                                                          </td><td>12/02/2020                                                                                                                </td><td>Ministry of Health                                                                                                        </td><td>Government                                                                                                                </td><td>https://moph.gov.af/en/moph-held-emergency-meeting-international-health-partners-fight-against-spread-and-control-covid-19</td><td>14/03/2020                                                                                                                </td></tr>\n",
       "\t<tr><td>4                                                                                                                         </td><td>Afghanistan                                                                                                               </td><td>AFG                                                                                                                       </td><td>                                                                                                                          </td><td>NA                                                                                                                        </td><td>Asia                                                                                                                      </td><td>Introduction / extension of measures                                                                                      </td><td>Governance and socio-economic measures                                                                                    </td><td>Emergency administrative structures activated or established                                                              </td><td>No                                                                                                                        </td><td>                                                                                                                          </td><td>                                                                                                                          </td><td>12/02/2020                                                                                                                </td><td>Ministry of Health                                                                                                        </td><td>Government                                                                                                                </td><td>https://moph.gov.af/en/moph-held-emergency-meeting-international-health-partners-fight-against-spread-and-control-covid-19</td><td>14/03/2020                                                                                                                </td></tr>\n",
       "\t<tr><td>5                                                                                                                         </td><td>Afghanistan                                                                                                               </td><td>AFG                                                                                                                       </td><td>                                                                                                                          </td><td>NA                                                                                                                        </td><td>Asia                                                                                                                      </td><td>Introduction / extension of measures                                                                                      </td><td>Social distancing                                                                                                         </td><td>Limit public gatherings                                                                                                   </td><td>No                                                                                                                        </td><td>Nevruz festival cancelled                                                                                                 </td><td>                                                                                                                          </td><td>12/03/2020                                                                                                                </td><td>AA                                                                                                                        </td><td>Media                                                                                                                     </td><td>https://www.aa.com.tr/en/asia-pacific/coronavirus-afghanistan-scraps-annual-nevruz-festival/1763830                       </td><td>14/03/2020                                                                                                                </td></tr>\n",
       "</tbody>\n",
       "</table>\n"
      ],
      "text/latex": [
       "\\begin{tabular}{r|lllllllllllllllll}\n",
       " ID & COUNTRY & ISO & ADMIN\\_LEVEL\\_NAME & PCODE & REGION & LOG\\_TYPE & CATEGORY & MEASURE & TARGETED\\_POP\\_GROUP & COMMENTS & NON\\_COMPLIANCE & DATE\\_IMPLEMENTED & SOURCE & SOURCE\\_TYPE & LINK & ENTRY\\_DATE\\\\\n",
       "\\hline\n",
       "\t 1                                                                                                                          & Afghanistan                                                                                                                & AFG                                                                                                                        &                                                                                                                            & NA                                                                                                                         & Asia                                                                                                                       & Introduction / extension of measures                                                                                       & Public health measures                                                                                                     & Health screenings in airports and border crossings                                                                         & No                                                                                                                         &                                                                                                                            &                                                                                                                            & 12/02/2020                                                                                                                 & Ministry of Health                                                                                                         & Government                                                                                                                 & https://moph.gov.af/en/moph-held-emergency-meeting-international-health-partners-fight-against-spread-and-control-covid-19 & 14/03/2020                                                                                                                \\\\\n",
       "\t 2                                                                                                                          & Afghanistan                                                                                                                & AFG                                                                                                                        & Kabul                                                                                                                      & NA                                                                                                                         & Asia                                                                                                                       & Introduction / extension of measures                                                                                       & Public health measures                                                                                                     & Isolation and quarantine policies                                                                                          & No                                                                                                                         &                                                                                                                            &                                                                                                                            & 12/02/2020                                                                                                                 & Ministry of Health                                                                                                         & Government                                                                                                                 & https://moph.gov.af/en/moph-held-emergency-meeting-international-health-partners-fight-against-spread-and-control-covid-19 & 14/03/2020                                                                                                                \\\\\n",
       "\t 3                                                                                                                          & Afghanistan                                                                                                                & AFG                                                                                                                        &                                                                                                                            & NA                                                                                                                         & Asia                                                                                                                       & Introduction / extension of measures                                                                                       & Public health measures                                                                                                     & Awareness campaigns                                                                                                        & No                                                                                                                         &                                                                                                                            &                                                                                                                            & 12/02/2020                                                                                                                 & Ministry of Health                                                                                                         & Government                                                                                                                 & https://moph.gov.af/en/moph-held-emergency-meeting-international-health-partners-fight-against-spread-and-control-covid-19 & 14/03/2020                                                                                                                \\\\\n",
       "\t 4                                                                                                                          & Afghanistan                                                                                                                & AFG                                                                                                                        &                                                                                                                            & NA                                                                                                                         & Asia                                                                                                                       & Introduction / extension of measures                                                                                       & Governance and socio-economic measures                                                                                     & Emergency administrative structures activated or established                                                               & No                                                                                                                         &                                                                                                                            &                                                                                                                            & 12/02/2020                                                                                                                 & Ministry of Health                                                                                                         & Government                                                                                                                 & https://moph.gov.af/en/moph-held-emergency-meeting-international-health-partners-fight-against-spread-and-control-covid-19 & 14/03/2020                                                                                                                \\\\\n",
       "\t 5                                                                                                                          & Afghanistan                                                                                                                & AFG                                                                                                                        &                                                                                                                            & NA                                                                                                                         & Asia                                                                                                                       & Introduction / extension of measures                                                                                       & Social distancing                                                                                                          & Limit public gatherings                                                                                                    & No                                                                                                                         & Nevruz festival cancelled                                                                                                  &                                                                                                                            & 12/03/2020                                                                                                                 & AA                                                                                                                         & Media                                                                                                                      & https://www.aa.com.tr/en/asia-pacific/coronavirus-afghanistan-scraps-annual-nevruz-festival/1763830                        & 14/03/2020                                                                                                                \\\\\n",
       "\\end{tabular}\n"
      ],
      "text/markdown": [
       "\n",
       "| ID | COUNTRY | ISO | ADMIN_LEVEL_NAME | PCODE | REGION | LOG_TYPE | CATEGORY | MEASURE | TARGETED_POP_GROUP | COMMENTS | NON_COMPLIANCE | DATE_IMPLEMENTED | SOURCE | SOURCE_TYPE | LINK | ENTRY_DATE |\n",
       "|---|---|---|---|---|---|---|---|---|---|---|---|---|---|---|---|---|\n",
       "| 1                                                                                                                          | Afghanistan                                                                                                                | AFG                                                                                                                        |                                                                                                                            | NA                                                                                                                         | Asia                                                                                                                       | Introduction / extension of measures                                                                                       | Public health measures                                                                                                     | Health screenings in airports and border crossings                                                                         | No                                                                                                                         |                                                                                                                            |                                                                                                                            | 12/02/2020                                                                                                                 | Ministry of Health                                                                                                         | Government                                                                                                                 | https://moph.gov.af/en/moph-held-emergency-meeting-international-health-partners-fight-against-spread-and-control-covid-19 | 14/03/2020                                                                                                                 |\n",
       "| 2                                                                                                                          | Afghanistan                                                                                                                | AFG                                                                                                                        | Kabul                                                                                                                      | NA                                                                                                                         | Asia                                                                                                                       | Introduction / extension of measures                                                                                       | Public health measures                                                                                                     | Isolation and quarantine policies                                                                                          | No                                                                                                                         |                                                                                                                            |                                                                                                                            | 12/02/2020                                                                                                                 | Ministry of Health                                                                                                         | Government                                                                                                                 | https://moph.gov.af/en/moph-held-emergency-meeting-international-health-partners-fight-against-spread-and-control-covid-19 | 14/03/2020                                                                                                                 |\n",
       "| 3                                                                                                                          | Afghanistan                                                                                                                | AFG                                                                                                                        |                                                                                                                            | NA                                                                                                                         | Asia                                                                                                                       | Introduction / extension of measures                                                                                       | Public health measures                                                                                                     | Awareness campaigns                                                                                                        | No                                                                                                                         |                                                                                                                            |                                                                                                                            | 12/02/2020                                                                                                                 | Ministry of Health                                                                                                         | Government                                                                                                                 | https://moph.gov.af/en/moph-held-emergency-meeting-international-health-partners-fight-against-spread-and-control-covid-19 | 14/03/2020                                                                                                                 |\n",
       "| 4                                                                                                                          | Afghanistan                                                                                                                | AFG                                                                                                                        |                                                                                                                            | NA                                                                                                                         | Asia                                                                                                                       | Introduction / extension of measures                                                                                       | Governance and socio-economic measures                                                                                     | Emergency administrative structures activated or established                                                               | No                                                                                                                         |                                                                                                                            |                                                                                                                            | 12/02/2020                                                                                                                 | Ministry of Health                                                                                                         | Government                                                                                                                 | https://moph.gov.af/en/moph-held-emergency-meeting-international-health-partners-fight-against-spread-and-control-covid-19 | 14/03/2020                                                                                                                 |\n",
       "| 5                                                                                                                          | Afghanistan                                                                                                                | AFG                                                                                                                        |                                                                                                                            | NA                                                                                                                         | Asia                                                                                                                       | Introduction / extension of measures                                                                                       | Social distancing                                                                                                          | Limit public gatherings                                                                                                    | No                                                                                                                         | Nevruz festival cancelled                                                                                                  |                                                                                                                            | 12/03/2020                                                                                                                 | AA                                                                                                                         | Media                                                                                                                      | https://www.aa.com.tr/en/asia-pacific/coronavirus-afghanistan-scraps-annual-nevruz-festival/1763830                        | 14/03/2020                                                                                                                 |\n",
       "\n"
      ],
      "text/plain": [
       "  ID COUNTRY     ISO ADMIN_LEVEL_NAME PCODE REGION\n",
       "1 1  Afghanistan AFG                  NA    Asia  \n",
       "2 2  Afghanistan AFG Kabul            NA    Asia  \n",
       "3 3  Afghanistan AFG                  NA    Asia  \n",
       "4 4  Afghanistan AFG                  NA    Asia  \n",
       "5 5  Afghanistan AFG                  NA    Asia  \n",
       "  LOG_TYPE                             CATEGORY                              \n",
       "1 Introduction / extension of measures Public health measures                \n",
       "2 Introduction / extension of measures Public health measures                \n",
       "3 Introduction / extension of measures Public health measures                \n",
       "4 Introduction / extension of measures Governance and socio-economic measures\n",
       "5 Introduction / extension of measures Social distancing                     \n",
       "  MEASURE                                                     \n",
       "1 Health screenings in airports and border crossings          \n",
       "2 Isolation and quarantine policies                           \n",
       "3 Awareness campaigns                                         \n",
       "4 Emergency administrative structures activated or established\n",
       "5 Limit public gatherings                                     \n",
       "  TARGETED_POP_GROUP COMMENTS                  NON_COMPLIANCE DATE_IMPLEMENTED\n",
       "1 No                                                          12/02/2020      \n",
       "2 No                                                          12/02/2020      \n",
       "3 No                                                          12/02/2020      \n",
       "4 No                                                          12/02/2020      \n",
       "5 No                 Nevruz festival cancelled                12/03/2020      \n",
       "  SOURCE             SOURCE_TYPE\n",
       "1 Ministry of Health Government \n",
       "2 Ministry of Health Government \n",
       "3 Ministry of Health Government \n",
       "4 Ministry of Health Government \n",
       "5 AA                 Media      \n",
       "  LINK                                                                                                                      \n",
       "1 https://moph.gov.af/en/moph-held-emergency-meeting-international-health-partners-fight-against-spread-and-control-covid-19\n",
       "2 https://moph.gov.af/en/moph-held-emergency-meeting-international-health-partners-fight-against-spread-and-control-covid-19\n",
       "3 https://moph.gov.af/en/moph-held-emergency-meeting-international-health-partners-fight-against-spread-and-control-covid-19\n",
       "4 https://moph.gov.af/en/moph-held-emergency-meeting-international-health-partners-fight-against-spread-and-control-covid-19\n",
       "5 https://www.aa.com.tr/en/asia-pacific/coronavirus-afghanistan-scraps-annual-nevruz-festival/1763830                       \n",
       "  ENTRY_DATE\n",
       "1 14/03/2020\n",
       "2 14/03/2020\n",
       "3 14/03/2020\n",
       "4 14/03/2020\n",
       "5 14/03/2020"
      ]
     },
     "metadata": {},
     "output_type": "display_data"
    }
   ],
   "source": [
    "# There are 11200 observations with 17 variables\n",
    "# Let's have a look at some data\n",
    "head(df_measures, 5)"
   ]
  },
  {
   "cell_type": "code",
   "execution_count": 8,
   "metadata": {},
   "outputs": [],
   "source": [
    "# I made the same decision as CA4. I decided to analyze the measures of type 'Introduction/extension of measures'\n",
    "# As I want to match the data with the time series I decided to filter out the measures without the date implemented\n",
    "df_measures <- subset(df_measures, LOG_TYPE == 'Introduction / extension of measures')\n",
    "\n",
    "df_measures <- subset(df_measures, DATE_IMPLEMENTED != \"\")"
   ]
  },
  {
   "cell_type": "code",
   "execution_count": 9,
   "metadata": {},
   "outputs": [],
   "source": [
    "# I create the dataframe with the desired columns\n",
    "measures_by_country <- select(df_measures, COUNTRY ,REGION, CATEGORY, DATE_IMPLEMENTED)"
   ]
  },
  {
   "cell_type": "code",
   "execution_count": 10,
   "metadata": {},
   "outputs": [],
   "source": [
    "# I realized that countries have a different definition from the files with time series\n",
    "# In order to avoid thta the joins don't work I remapped some countries that I know to be different in the next dataframes\n",
    "measures_by_country$COUNTRY <- as.character(measures_by_country$COUNTRY)\n",
    "measures_by_country$COUNTRY[tolower(measures_by_country$COUNTRY) == \"czech republic\"] <- \"Czechia\"\n",
    "measures_by_country$COUNTRY[tolower(measures_by_country$COUNTRY) == \"moldova republic of\"] <- \"Moldova\"\n",
    "measures_by_country$COUNTRY[tolower(measures_by_country$COUNTRY) == \"North Macedonia Republic Of\"] <- \"North Macedonia\"\n",
    "measures_by_country$COUNTRY[measures_by_country$COUNTRY == \"Russian Federation\"] <- \"Russia\"\n",
    "measures_by_country$COUNTRY <- as.factor(measures_by_country$COUNTRY)"
   ]
  },
  {
   "cell_type": "code",
   "execution_count": 11,
   "metadata": {},
   "outputs": [],
   "source": [
    "# Load the file with time series on covid confirmed cases and create the dataframe\n",
    "cases <- read.csv(\"C:\\\\Users\\\\Romina\\\\Desktop\\\\DBSCourse\\\\ProgrammingBigData\\\\CA5\\\\time_series_covid19_confirmed_global.csv\", sep = \",\", header = TRUE)\n",
    "\n",
    "cases <- data.frame(cases)"
   ]
  },
  {
   "cell_type": "code",
   "execution_count": 12,
   "metadata": {},
   "outputs": [
    {
     "name": "stdout",
     "output_type": "stream",
     "text": [
      "'data.frame':\t266 obs. of  129 variables:\n",
      " $ Province.State: Factor w/ 82 levels \"\",\"Alberta\",\"Anguilla\",..: 1 1 1 1 1 1 1 1 6 50 ...\n",
      " $ Country.Region: Factor w/ 188 levels \"Afghanistan\",..: 1 2 3 4 5 6 7 8 9 9 ...\n",
      " $ Lat           : num  33 41.2 28 42.5 -11.2 ...\n",
      " $ Long          : num  65 20.17 1.66 1.52 17.87 ...\n",
      " $ X1.22.20      : int  0 0 0 0 0 0 0 0 0 0 ...\n",
      " $ X1.23.20      : int  0 0 0 0 0 0 0 0 0 0 ...\n",
      " $ X1.24.20      : int  0 0 0 0 0 0 0 0 0 0 ...\n",
      " $ X1.25.20      : int  0 0 0 0 0 0 0 0 0 0 ...\n",
      " $ X1.26.20      : int  0 0 0 0 0 0 0 0 0 3 ...\n",
      " $ X1.27.20      : int  0 0 0 0 0 0 0 0 0 4 ...\n",
      " $ X1.28.20      : int  0 0 0 0 0 0 0 0 0 4 ...\n",
      " $ X1.29.20      : int  0 0 0 0 0 0 0 0 0 4 ...\n",
      " $ X1.30.20      : int  0 0 0 0 0 0 0 0 0 4 ...\n",
      " $ X1.31.20      : int  0 0 0 0 0 0 0 0 0 4 ...\n",
      " $ X2.1.20       : int  0 0 0 0 0 0 0 0 0 4 ...\n",
      " $ X2.2.20       : int  0 0 0 0 0 0 0 0 0 4 ...\n",
      " $ X2.3.20       : int  0 0 0 0 0 0 0 0 0 4 ...\n",
      " $ X2.4.20       : int  0 0 0 0 0 0 0 0 0 4 ...\n",
      " $ X2.5.20       : int  0 0 0 0 0 0 0 0 0 4 ...\n",
      " $ X2.6.20       : int  0 0 0 0 0 0 0 0 0 4 ...\n",
      " $ X2.7.20       : int  0 0 0 0 0 0 0 0 0 4 ...\n",
      " $ X2.8.20       : int  0 0 0 0 0 0 0 0 0 4 ...\n",
      " $ X2.9.20       : int  0 0 0 0 0 0 0 0 0 4 ...\n",
      " $ X2.10.20      : int  0 0 0 0 0 0 0 0 0 4 ...\n",
      " $ X2.11.20      : int  0 0 0 0 0 0 0 0 0 4 ...\n",
      " $ X2.12.20      : int  0 0 0 0 0 0 0 0 0 4 ...\n",
      " $ X2.13.20      : int  0 0 0 0 0 0 0 0 0 4 ...\n",
      " $ X2.14.20      : int  0 0 0 0 0 0 0 0 0 4 ...\n",
      " $ X2.15.20      : int  0 0 0 0 0 0 0 0 0 4 ...\n",
      " $ X2.16.20      : int  0 0 0 0 0 0 0 0 0 4 ...\n",
      " $ X2.17.20      : int  0 0 0 0 0 0 0 0 0 4 ...\n",
      " $ X2.18.20      : int  0 0 0 0 0 0 0 0 0 4 ...\n",
      " $ X2.19.20      : int  0 0 0 0 0 0 0 0 0 4 ...\n",
      " $ X2.20.20      : int  0 0 0 0 0 0 0 0 0 4 ...\n",
      " $ X2.21.20      : int  0 0 0 0 0 0 0 0 0 4 ...\n",
      " $ X2.22.20      : int  0 0 0 0 0 0 0 0 0 4 ...\n",
      " $ X2.23.20      : int  0 0 0 0 0 0 0 0 0 4 ...\n",
      " $ X2.24.20      : int  1 0 0 0 0 0 0 0 0 4 ...\n",
      " $ X2.25.20      : int  1 0 1 0 0 0 0 0 0 4 ...\n",
      " $ X2.26.20      : int  1 0 1 0 0 0 0 0 0 4 ...\n",
      " $ X2.27.20      : int  1 0 1 0 0 0 0 0 0 4 ...\n",
      " $ X2.28.20      : int  1 0 1 0 0 0 0 0 0 4 ...\n",
      " $ X2.29.20      : int  1 0 1 0 0 0 0 0 0 4 ...\n",
      " $ X3.1.20       : int  1 0 1 0 0 0 0 1 0 6 ...\n",
      " $ X3.2.20       : int  1 0 3 1 0 0 0 1 0 6 ...\n",
      " $ X3.3.20       : int  1 0 5 1 0 0 1 1 0 13 ...\n",
      " $ X3.4.20       : int  1 0 12 1 0 0 1 1 0 22 ...\n",
      " $ X3.5.20       : int  1 0 12 1 0 0 1 1 0 22 ...\n",
      " $ X3.6.20       : int  1 0 17 1 0 0 2 1 0 26 ...\n",
      " $ X3.7.20       : int  1 0 17 1 0 0 8 1 0 28 ...\n",
      " $ X3.8.20       : int  4 0 19 1 0 0 12 1 0 38 ...\n",
      " $ X3.9.20       : int  4 2 20 1 0 0 12 1 0 48 ...\n",
      " $ X3.10.20      : int  5 10 20 1 0 0 17 1 0 55 ...\n",
      " $ X3.11.20      : int  7 12 20 1 0 0 19 1 0 65 ...\n",
      " $ X3.12.20      : int  7 23 24 1 0 0 19 4 0 65 ...\n",
      " $ X3.13.20      : int  7 33 26 1 0 1 31 8 1 92 ...\n",
      " $ X3.14.20      : int  11 38 37 1 0 1 34 18 1 112 ...\n",
      " $ X3.15.20      : int  16 42 48 1 0 1 45 26 1 134 ...\n",
      " $ X3.16.20      : int  21 51 54 2 0 1 56 52 2 171 ...\n",
      " $ X3.17.20      : int  22 55 60 39 0 1 68 78 2 210 ...\n",
      " $ X3.18.20      : int  22 59 74 39 0 1 79 84 3 267 ...\n",
      " $ X3.19.20      : int  22 64 87 53 0 1 97 115 4 307 ...\n",
      " $ X3.20.20      : int  24 70 90 75 1 1 128 136 6 353 ...\n",
      " $ X3.21.20      : int  24 76 139 88 2 1 158 160 9 436 ...\n",
      " $ X3.22.20      : int  40 89 201 113 2 1 266 194 19 669 ...\n",
      " $ X3.23.20      : int  40 104 230 133 3 3 301 235 32 669 ...\n",
      " $ X3.24.20      : int  74 123 264 164 3 3 387 249 39 818 ...\n",
      " $ X3.25.20      : int  84 146 302 188 3 3 387 265 39 1029 ...\n",
      " $ X3.26.20      : int  94 174 367 224 4 7 502 290 53 1219 ...\n",
      " $ X3.27.20      : int  110 186 409 267 4 7 589 329 62 1405 ...\n",
      " $ X3.28.20      : int  110 197 454 308 5 7 690 407 71 1617 ...\n",
      " $ X3.29.20      : int  120 212 511 334 7 7 745 424 77 1791 ...\n",
      " $ X3.30.20      : int  170 223 584 370 7 7 820 482 78 2032 ...\n",
      " $ X3.31.20      : int  174 243 716 376 7 7 1054 532 80 2032 ...\n",
      " $ X4.1.20       : int  237 259 847 390 8 7 1054 571 84 2182 ...\n",
      " $ X4.2.20       : int  273 277 986 428 8 9 1133 663 87 2298 ...\n",
      " $ X4.3.20       : int  281 304 1171 439 8 15 1265 736 91 2389 ...\n",
      " $ X4.4.20       : int  299 333 1251 466 10 15 1451 770 93 2493 ...\n",
      " $ X4.5.20       : int  349 361 1320 501 14 15 1451 822 96 2580 ...\n",
      " $ X4.6.20       : int  367 377 1423 525 16 15 1554 833 96 2637 ...\n",
      " $ X4.7.20       : int  423 383 1468 545 17 19 1628 853 96 2686 ...\n",
      " $ X4.8.20       : int  444 400 1572 564 19 19 1715 881 99 2734 ...\n",
      " $ X4.9.20       : int  484 409 1666 583 19 19 1795 921 100 2773 ...\n",
      " $ X4.10.20      : int  521 416 1761 601 19 19 1975 937 103 2822 ...\n",
      " $ X4.11.20      : int  555 433 1825 601 19 21 1975 967 103 2857 ...\n",
      " $ X4.12.20      : int  607 446 1914 638 19 21 2142 1013 103 2857 ...\n",
      " $ X4.13.20      : int  665 467 1983 646 19 23 2208 1039 102 2863 ...\n",
      " $ X4.14.20      : int  714 475 2070 659 19 23 2277 1067 103 2870 ...\n",
      " $ X4.15.20      : int  784 494 2160 673 19 23 2443 1111 103 2886 ...\n",
      " $ X4.16.20      : int  840 518 2268 673 19 23 2571 1159 103 2897 ...\n",
      " $ X4.17.20      : int  906 539 2418 696 19 23 2669 1201 103 2926 ...\n",
      " $ X4.18.20      : int  933 548 2534 704 24 23 2758 1248 103 2936 ...\n",
      " $ X4.19.20      : int  996 562 2629 713 24 23 2839 1291 103 2957 ...\n",
      " $ X4.20.20      : int  1026 584 2718 717 24 23 2941 1339 104 2963 ...\n",
      " $ X4.21.20      : int  1092 609 2811 717 24 23 3031 1401 104 2969 ...\n",
      " $ X4.22.20      : int  1176 634 2910 723 25 24 3144 1473 104 2971 ...\n",
      " $ X4.23.20      : int  1279 663 3007 723 25 24 3435 1523 104 2976 ...\n",
      " $ X4.24.20      : int  1351 678 3127 731 25 24 3607 1596 105 2982 ...\n",
      " $ X4.25.20      : int  1463 712 3256 738 25 24 3780 1677 106 2994 ...\n",
      "  [list output truncated]\n"
     ]
    }
   ],
   "source": [
    "# Let's have a look at the dataframe structure\n",
    "str(cases)"
   ]
  },
  {
   "cell_type": "code",
   "execution_count": 14,
   "metadata": {},
   "outputs": [
    {
     "data": {
      "text/html": [
       "<table>\n",
       "<thead><tr><th scope=col>Province.State</th><th scope=col>Country.Region</th><th scope=col>Lat</th><th scope=col>Long</th><th scope=col>X1.22.20</th><th scope=col>X1.23.20</th><th scope=col>X1.24.20</th><th scope=col>X1.25.20</th><th scope=col>X1.26.20</th><th scope=col>X1.27.20</th><th scope=col>...</th><th scope=col>X5.16.20</th><th scope=col>X5.17.20</th><th scope=col>X5.18.20</th><th scope=col>X5.19.20</th><th scope=col>X5.20.20</th><th scope=col>X5.21.20</th><th scope=col>X5.22.20</th><th scope=col>X5.23.20</th><th scope=col>X5.24.20</th><th scope=col>X5.25.20</th></tr></thead>\n",
       "<tbody>\n",
       "\t<tr><td>           </td><td>Afghanistan</td><td> 33.0000   </td><td>65.0000    </td><td>0          </td><td>0          </td><td>0          </td><td>0          </td><td>0          </td><td>0          </td><td>...        </td><td>6402       </td><td>6664       </td><td>7072       </td><td>7653       </td><td>8145       </td><td>8676       </td><td>9216       </td><td>9998       </td><td>10582      </td><td>11173      </td></tr>\n",
       "\t<tr><td>           </td><td>Albania    </td><td> 41.1533   </td><td>20.1683    </td><td>0          </td><td>0          </td><td>0          </td><td>0          </td><td>0          </td><td>0          </td><td>...        </td><td> 933       </td><td> 946       </td><td> 948       </td><td> 949       </td><td> 964       </td><td> 969       </td><td> 981       </td><td> 989       </td><td>  998      </td><td> 1004      </td></tr>\n",
       "\t<tr><td>           </td><td>Algeria    </td><td> 28.0339   </td><td> 1.6596    </td><td>0          </td><td>0          </td><td>0          </td><td>0          </td><td>0          </td><td>0          </td><td>...        </td><td>6821       </td><td>7019       </td><td>7201       </td><td>7377       </td><td>7542       </td><td>7728       </td><td>7918       </td><td>8113       </td><td> 8306      </td><td> 8503      </td></tr>\n",
       "\t<tr><td>           </td><td>Andorra    </td><td> 42.5063   </td><td> 1.5218    </td><td>0          </td><td>0          </td><td>0          </td><td>0          </td><td>0          </td><td>0          </td><td>...        </td><td> 761       </td><td> 761       </td><td> 761       </td><td> 761       </td><td> 762       </td><td> 762       </td><td> 762       </td><td> 762       </td><td>  762      </td><td>  763      </td></tr>\n",
       "\t<tr><td>           </td><td>Angola     </td><td>-11.2027   </td><td>17.8739    </td><td>0          </td><td>0          </td><td>0          </td><td>0          </td><td>0          </td><td>0          </td><td>...        </td><td>  48       </td><td>  48       </td><td>  50       </td><td>  52       </td><td>  52       </td><td>  58       </td><td>  60       </td><td>  61       </td><td>   69      </td><td>   70      </td></tr>\n",
       "</tbody>\n",
       "</table>\n"
      ],
      "text/latex": [
       "\\begin{tabular}{r|lllllllllllllllllllllllllllllllllllllllllllllllllllllllllllllllllllllllllllllllllllllllllllllllllllllllllllllllllllllllllllllllll}\n",
       " Province.State & Country.Region & Lat & Long & X1.22.20 & X1.23.20 & X1.24.20 & X1.25.20 & X1.26.20 & X1.27.20 & ... & X5.16.20 & X5.17.20 & X5.18.20 & X5.19.20 & X5.20.20 & X5.21.20 & X5.22.20 & X5.23.20 & X5.24.20 & X5.25.20\\\\\n",
       "\\hline\n",
       "\t             & Afghanistan &  33.0000    & 65.0000     & 0           & 0           & 0           & 0           & 0           & 0           & ...         & 6402        & 6664        & 7072        & 7653        & 8145        & 8676        & 9216        & 9998        & 10582       & 11173      \\\\\n",
       "\t             & Albania     &  41.1533    & 20.1683     & 0           & 0           & 0           & 0           & 0           & 0           & ...         &  933        &  946        &  948        &  949        &  964        &  969        &  981        &  989        &   998       &  1004      \\\\\n",
       "\t             & Algeria     &  28.0339    &  1.6596     & 0           & 0           & 0           & 0           & 0           & 0           & ...         & 6821        & 7019        & 7201        & 7377        & 7542        & 7728        & 7918        & 8113        &  8306       &  8503      \\\\\n",
       "\t             & Andorra     &  42.5063    &  1.5218     & 0           & 0           & 0           & 0           & 0           & 0           & ...         &  761        &  761        &  761        &  761        &  762        &  762        &  762        &  762        &   762       &   763      \\\\\n",
       "\t             & Angola      & -11.2027    & 17.8739     & 0           & 0           & 0           & 0           & 0           & 0           & ...         &   48        &   48        &   50        &   52        &   52        &   58        &   60        &   61        &    69       &    70      \\\\\n",
       "\\end{tabular}\n"
      ],
      "text/markdown": [
       "\n",
       "| Province.State | Country.Region | Lat | Long | X1.22.20 | X1.23.20 | X1.24.20 | X1.25.20 | X1.26.20 | X1.27.20 | ... | X5.16.20 | X5.17.20 | X5.18.20 | X5.19.20 | X5.20.20 | X5.21.20 | X5.22.20 | X5.23.20 | X5.24.20 | X5.25.20 |\n",
       "|---|---|---|---|---|---|---|---|---|---|---|---|---|---|---|---|---|---|---|---|---|\n",
       "|             | Afghanistan |  33.0000    | 65.0000     | 0           | 0           | 0           | 0           | 0           | 0           | ...         | 6402        | 6664        | 7072        | 7653        | 8145        | 8676        | 9216        | 9998        | 10582       | 11173       |\n",
       "|             | Albania     |  41.1533    | 20.1683     | 0           | 0           | 0           | 0           | 0           | 0           | ...         |  933        |  946        |  948        |  949        |  964        |  969        |  981        |  989        |   998       |  1004       |\n",
       "|             | Algeria     |  28.0339    |  1.6596     | 0           | 0           | 0           | 0           | 0           | 0           | ...         | 6821        | 7019        | 7201        | 7377        | 7542        | 7728        | 7918        | 8113        |  8306       |  8503       |\n",
       "|             | Andorra     |  42.5063    |  1.5218     | 0           | 0           | 0           | 0           | 0           | 0           | ...         |  761        |  761        |  761        |  761        |  762        |  762        |  762        |  762        |   762       |   763       |\n",
       "|             | Angola      | -11.2027    | 17.8739     | 0           | 0           | 0           | 0           | 0           | 0           | ...         |   48        |   48        |   50        |   52        |   52        |   58        |   60        |   61        |    69       |    70       |\n",
       "\n"
      ],
      "text/plain": [
       "  Province.State Country.Region Lat      Long    X1.22.20 X1.23.20 X1.24.20\n",
       "1                Afghanistan     33.0000 65.0000 0        0        0       \n",
       "2                Albania         41.1533 20.1683 0        0        0       \n",
       "3                Algeria         28.0339  1.6596 0        0        0       \n",
       "4                Andorra         42.5063  1.5218 0        0        0       \n",
       "5                Angola         -11.2027 17.8739 0        0        0       \n",
       "  X1.25.20 X1.26.20 X1.27.20 ... X5.16.20 X5.17.20 X5.18.20 X5.19.20 X5.20.20\n",
       "1 0        0        0        ... 6402     6664     7072     7653     8145    \n",
       "2 0        0        0        ...  933      946      948      949      964    \n",
       "3 0        0        0        ... 6821     7019     7201     7377     7542    \n",
       "4 0        0        0        ...  761      761      761      761      762    \n",
       "5 0        0        0        ...   48       48       50       52       52    \n",
       "  X5.21.20 X5.22.20 X5.23.20 X5.24.20 X5.25.20\n",
       "1 8676     9216     9998     10582    11173   \n",
       "2  969      981      989       998     1004   \n",
       "3 7728     7918     8113      8306     8503   \n",
       "4  762      762      762       762      763   \n",
       "5   58       60       61        69       70   "
      ]
     },
     "metadata": {},
     "output_type": "display_data"
    }
   ],
   "source": [
    "# There are 266 observations with 129 variables.\n",
    "# The variables (columns) are the dates from 22/01/2020 to 25/05/2020 in which the data have been registered\n",
    "# These columns are integer and have a fomrat not esaily readable (see below for conversion)\n",
    "# Let's have a look at some data\n",
    "head(cases, 5)"
   ]
  },
  {
   "cell_type": "code",
   "execution_count": 15,
   "metadata": {},
   "outputs": [],
   "source": [
    "# I select the rows with Province.State empty in order to avoid getting data for the overseas territorial collectivity\n",
    "# I exclude the column not useful\n",
    "# I reshape the dataframe in order to transpose the columns in rows\n",
    "cases <- subset(cases, Province.State == \"\" )\n",
    "cases <- select(cases, -Province.State ,-Lat, -Long)\n",
    "cases <- melt(cases, id = \"Country.Region\")"
   ]
  },
  {
   "cell_type": "code",
   "execution_count": 16,
   "metadata": {},
   "outputs": [
    {
     "data": {
      "text/html": [
       "<table>\n",
       "<thead><tr><th scope=col>Country.Region</th><th scope=col>variable</th><th scope=col>value</th></tr></thead>\n",
       "<tbody>\n",
       "\t<tr><td>Afghanistan</td><td>X1.22.20   </td><td>0          </td></tr>\n",
       "\t<tr><td>Albania    </td><td>X1.22.20   </td><td>0          </td></tr>\n",
       "\t<tr><td>Algeria    </td><td>X1.22.20   </td><td>0          </td></tr>\n",
       "\t<tr><td>Andorra    </td><td>X1.22.20   </td><td>0          </td></tr>\n",
       "\t<tr><td>Angola     </td><td>X1.22.20   </td><td>0          </td></tr>\n",
       "</tbody>\n",
       "</table>\n"
      ],
      "text/latex": [
       "\\begin{tabular}{r|lll}\n",
       " Country.Region & variable & value\\\\\n",
       "\\hline\n",
       "\t Afghanistan & X1.22.20    & 0          \\\\\n",
       "\t Albania     & X1.22.20    & 0          \\\\\n",
       "\t Algeria     & X1.22.20    & 0          \\\\\n",
       "\t Andorra     & X1.22.20    & 0          \\\\\n",
       "\t Angola      & X1.22.20    & 0          \\\\\n",
       "\\end{tabular}\n"
      ],
      "text/markdown": [
       "\n",
       "| Country.Region | variable | value |\n",
       "|---|---|---|\n",
       "| Afghanistan | X1.22.20    | 0           |\n",
       "| Albania     | X1.22.20    | 0           |\n",
       "| Algeria     | X1.22.20    | 0           |\n",
       "| Andorra     | X1.22.20    | 0           |\n",
       "| Angola      | X1.22.20    | 0           |\n",
       "\n"
      ],
      "text/plain": [
       "  Country.Region variable value\n",
       "1 Afghanistan    X1.22.20 0    \n",
       "2 Albania        X1.22.20 0    \n",
       "3 Algeria        X1.22.20 0    \n",
       "4 Andorra        X1.22.20 0    \n",
       "5 Angola         X1.22.20 0    "
      ]
     },
     "metadata": {},
     "output_type": "display_data"
    }
   ],
   "source": [
    "# Let's have a look at the reshaped dataframe\n",
    "head(cases,5)"
   ]
  },
  {
   "cell_type": "code",
   "execution_count": 17,
   "metadata": {},
   "outputs": [],
   "source": [
    "# I convert the column 'variable' in a date with the desired format\n",
    "# I rename the columns with a more meaningful description\n",
    "cases$variable <- as.Date(as.Date(cases$variable , format = \"X%m.%d.%y\"), format =\"%d/%m/%y\")\n",
    "\n",
    "colnames(cases)[2] <- \"date\"\n",
    "colnames(cases)[3] <- \"cases\""
   ]
  },
  {
   "cell_type": "code",
   "execution_count": 21,
   "metadata": {},
   "outputs": [],
   "source": [
    "# Load the file with covid deaths and create the dataframe\n",
    "# The structure of this dataset is the same of the previous one\n",
    "\n",
    "deaths <- read.csv(\"C:\\\\Users\\\\Romina\\\\Desktop\\\\DBSCourse\\\\ProgrammingBigData\\\\CA4\\\\time_series_covid19_deaths_global.csv\", sep = \",\", header = TRUE)\n",
    "\n",
    "deaths <- data.frame(deaths)"
   ]
  },
  {
   "cell_type": "code",
   "execution_count": 22,
   "metadata": {},
   "outputs": [],
   "source": [
    "# I approach with the same logic used for the cases dataframe\n",
    "deaths <- subset(deaths, Province.State == \"\" )\n",
    "deaths <- select(deaths, -Province.State ,-Lat, -Long)\n",
    "deaths <- melt(deaths, id = \"Country.Region\")"
   ]
  },
  {
   "cell_type": "code",
   "execution_count": 23,
   "metadata": {},
   "outputs": [],
   "source": [
    "deaths$variable <- as.Date(as.Date(deaths$variable , format = \"X%m.%d.%y\"), format =\"%d/%m/%y\")\n",
    "\n",
    "colnames(deaths)[2] <- \"date\"\n",
    "colnames(deaths)[3] <- \"deaths\""
   ]
  },
  {
   "cell_type": "code",
   "execution_count": 24,
   "metadata": {},
   "outputs": [
    {
     "data": {
      "text/html": [
       "<table>\n",
       "<thead><tr><th scope=col>Country.Region</th><th scope=col>date</th><th scope=col>deaths</th></tr></thead>\n",
       "<tbody>\n",
       "\t<tr><td>Afghanistan</td><td>2020-01-22 </td><td>0          </td></tr>\n",
       "\t<tr><td>Albania    </td><td>2020-01-22 </td><td>0          </td></tr>\n",
       "\t<tr><td>Algeria    </td><td>2020-01-22 </td><td>0          </td></tr>\n",
       "\t<tr><td>Andorra    </td><td>2020-01-22 </td><td>0          </td></tr>\n",
       "\t<tr><td>Angola     </td><td>2020-01-22 </td><td>0          </td></tr>\n",
       "</tbody>\n",
       "</table>\n"
      ],
      "text/latex": [
       "\\begin{tabular}{r|lll}\n",
       " Country.Region & date & deaths\\\\\n",
       "\\hline\n",
       "\t Afghanistan & 2020-01-22  & 0          \\\\\n",
       "\t Albania     & 2020-01-22  & 0          \\\\\n",
       "\t Algeria     & 2020-01-22  & 0          \\\\\n",
       "\t Andorra     & 2020-01-22  & 0          \\\\\n",
       "\t Angola      & 2020-01-22  & 0          \\\\\n",
       "\\end{tabular}\n"
      ],
      "text/markdown": [
       "\n",
       "| Country.Region | date | deaths |\n",
       "|---|---|---|\n",
       "| Afghanistan | 2020-01-22  | 0           |\n",
       "| Albania     | 2020-01-22  | 0           |\n",
       "| Algeria     | 2020-01-22  | 0           |\n",
       "| Andorra     | 2020-01-22  | 0           |\n",
       "| Angola      | 2020-01-22  | 0           |\n",
       "\n"
      ],
      "text/plain": [
       "  Country.Region date       deaths\n",
       "1 Afghanistan    2020-01-22 0     \n",
       "2 Albania        2020-01-22 0     \n",
       "3 Algeria        2020-01-22 0     \n",
       "4 Andorra        2020-01-22 0     \n",
       "5 Angola         2020-01-22 0     "
      ]
     },
     "metadata": {},
     "output_type": "display_data"
    }
   ],
   "source": [
    "# Let's have a look at the final file\n",
    "head(deaths,5)"
   ]
  },
  {
   "cell_type": "code",
   "execution_count": 25,
   "metadata": {},
   "outputs": [],
   "source": [
    "# I merge the two dataset with covid data. \n",
    "# The inner join is used because the two datframe have the same countries and dates. No risk of loosing information from\n",
    "# one of the two datasets\n",
    "# I filter out the rows with deaths and cases = 0 \n",
    "covid_data <- merge(cases, deaths, by = c(\"Country.Region\", \"date\"))\n",
    "covid_data <- subset(covid_data, cases > 0 & deaths > 0)"
   ]
  },
  {
   "cell_type": "code",
   "execution_count": 26,
   "metadata": {},
   "outputs": [],
   "source": [
    "# Before joining the covid_data dataframe with the measures one I need to associate the region to the covid_data \n",
    "# I load a file containing the mapping of country/region in the world\n",
    "mapping <- read.csv(\"C:\\\\Users\\\\Romina\\\\Desktop\\\\DBSCourse\\\\ProgrammingBigData\\\\CA5\\\\continents-according-to-our-world-in-data.csv\", sep = \",\", header = TRUE)"
   ]
  },
  {
   "cell_type": "code",
   "execution_count": 27,
   "metadata": {},
   "outputs": [
    {
     "data": {
      "text/html": [
       "<table>\n",
       "<thead><tr><th scope=col>Entity</th><th scope=col>Code</th><th scope=col>Year</th><th scope=col>X</th></tr></thead>\n",
       "<tbody>\n",
       "\t<tr><td>Abkhazia             </td><td>OWID_ABK             </td><td>2015                 </td><td>Asia                 </td></tr>\n",
       "\t<tr><td>Afghanistan          </td><td>AFG                  </td><td>2015                 </td><td>Asia                 </td></tr>\n",
       "\t<tr><td>Akrotiri and Dhekelia</td><td>OWID_AKD             </td><td>2015                 </td><td>Asia                 </td></tr>\n",
       "\t<tr><td>Albania              </td><td>ALB                  </td><td>2015                 </td><td>Europe               </td></tr>\n",
       "\t<tr><td>Algeria              </td><td>DZA                  </td><td>2015                 </td><td>Africa               </td></tr>\n",
       "</tbody>\n",
       "</table>\n"
      ],
      "text/latex": [
       "\\begin{tabular}{r|llll}\n",
       " Entity & Code & Year & X\\\\\n",
       "\\hline\n",
       "\t Abkhazia              & OWID\\_ABK            & 2015                  & Asia                 \\\\\n",
       "\t Afghanistan           & AFG                   & 2015                  & Asia                 \\\\\n",
       "\t Akrotiri and Dhekelia & OWID\\_AKD            & 2015                  & Asia                 \\\\\n",
       "\t Albania               & ALB                   & 2015                  & Europe               \\\\\n",
       "\t Algeria               & DZA                   & 2015                  & Africa               \\\\\n",
       "\\end{tabular}\n"
      ],
      "text/markdown": [
       "\n",
       "| Entity | Code | Year | X |\n",
       "|---|---|---|---|\n",
       "| Abkhazia              | OWID_ABK              | 2015                  | Asia                  |\n",
       "| Afghanistan           | AFG                   | 2015                  | Asia                  |\n",
       "| Akrotiri and Dhekelia | OWID_AKD              | 2015                  | Asia                  |\n",
       "| Albania               | ALB                   | 2015                  | Europe                |\n",
       "| Algeria               | DZA                   | 2015                  | Africa                |\n",
       "\n"
      ],
      "text/plain": [
       "  Entity                Code     Year X     \n",
       "1 Abkhazia              OWID_ABK 2015 Asia  \n",
       "2 Afghanistan           AFG      2015 Asia  \n",
       "3 Akrotiri and Dhekelia OWID_AKD 2015 Asia  \n",
       "4 Albania               ALB      2015 Europe\n",
       "5 Algeria               DZA      2015 Africa"
      ]
     },
     "metadata": {},
     "output_type": "display_data"
    }
   ],
   "source": [
    "# Let's have a look at the mapping dataframe\n",
    "head(mapping,5)"
   ]
  },
  {
   "cell_type": "code",
   "execution_count": 31,
   "metadata": {},
   "outputs": [],
   "source": [
    "# I have to merge the covid_data region column with the Entity column of mapping df. \n",
    "# In order to avoid loosing data from the covid df I choose a left join wiht the covid_data df on the left side\n",
    "covid_data_region <- merge(covid_data, mapping, by.x = \"Country.Region\", by.y = \"Entity\", all.x = TRUE )"
   ]
  },
  {
   "cell_type": "code",
   "execution_count": 32,
   "metadata": {},
   "outputs": [],
   "source": [
    "# I exclude the columns not usefule and rename the X one\n",
    "covid_data_region <- select(covid_data_region, -Code ,-Year)\n",
    "colnames(covid_data_region)[5] <- \"Region\""
   ]
  },
  {
   "cell_type": "code",
   "execution_count": 33,
   "metadata": {},
   "outputs": [
    {
     "data": {
      "text/html": [
       "<table>\n",
       "<thead><tr><th scope=col>Country.Region</th><th scope=col>date</th><th scope=col>cases</th><th scope=col>deaths</th><th scope=col>Region</th></tr></thead>\n",
       "<tbody>\n",
       "\t<tr><td>Afghanistan</td><td>2020-03-25 </td><td> 84        </td><td> 2         </td><td>Asia       </td></tr>\n",
       "\t<tr><td>Afghanistan</td><td>2020-03-24 </td><td> 74        </td><td> 1         </td><td>Asia       </td></tr>\n",
       "\t<tr><td>Afghanistan</td><td>2020-04-15 </td><td>784        </td><td>25         </td><td>Asia       </td></tr>\n",
       "\t<tr><td>Afghanistan</td><td>2020-03-26 </td><td> 94        </td><td> 4         </td><td>Asia       </td></tr>\n",
       "\t<tr><td>Afghanistan</td><td>2020-04-14 </td><td>714        </td><td>23         </td><td>Asia       </td></tr>\n",
       "</tbody>\n",
       "</table>\n"
      ],
      "text/latex": [
       "\\begin{tabular}{r|lllll}\n",
       " Country.Region & date & cases & deaths & Region\\\\\n",
       "\\hline\n",
       "\t Afghanistan & 2020-03-25  &  84         &  2          & Asia       \\\\\n",
       "\t Afghanistan & 2020-03-24  &  74         &  1          & Asia       \\\\\n",
       "\t Afghanistan & 2020-04-15  & 784         & 25          & Asia       \\\\\n",
       "\t Afghanistan & 2020-03-26  &  94         &  4          & Asia       \\\\\n",
       "\t Afghanistan & 2020-04-14  & 714         & 23          & Asia       \\\\\n",
       "\\end{tabular}\n"
      ],
      "text/markdown": [
       "\n",
       "| Country.Region | date | cases | deaths | Region |\n",
       "|---|---|---|---|---|\n",
       "| Afghanistan | 2020-03-25  |  84         |  2          | Asia        |\n",
       "| Afghanistan | 2020-03-24  |  74         |  1          | Asia        |\n",
       "| Afghanistan | 2020-04-15  | 784         | 25          | Asia        |\n",
       "| Afghanistan | 2020-03-26  |  94         |  4          | Asia        |\n",
       "| Afghanistan | 2020-04-14  | 714         | 23          | Asia        |\n",
       "\n"
      ],
      "text/plain": [
       "  Country.Region date       cases deaths Region\n",
       "1 Afghanistan    2020-03-25  84    2     Asia  \n",
       "2 Afghanistan    2020-03-24  74    1     Asia  \n",
       "3 Afghanistan    2020-04-15 784   25     Asia  \n",
       "4 Afghanistan    2020-03-26  94    4     Asia  \n",
       "5 Afghanistan    2020-04-14 714   23     Asia  "
      ]
     },
     "metadata": {},
     "output_type": "display_data"
    }
   ],
   "source": [
    "#Let's have a look at the covid_data dataframe\n",
    "head(covid_data_region,5)"
   ]
  },
  {
   "cell_type": "code",
   "execution_count": 34,
   "metadata": {},
   "outputs": [],
   "source": [
    "# I remap a specific country name in order to avoid error during the join\n",
    "covid_data_region$Country.Region <- as.character(covid_data_region$Country.Region)\n",
    "covid_data_region$Country.Region[tolower(covid_data_region$Country.Region) == \"czech republic\"] <- \"Czechia\"\n",
    "covid_data_region$Country.Region <- as.factor(covid_data_region$Country.Region)"
   ]
  },
  {
   "cell_type": "code",
   "execution_count": 35,
   "metadata": {},
   "outputs": [],
   "source": [
    "# Before joining the covid data with the measures dataframe I convert the 'DATE_IMPLEMENTED' to a date\n",
    "measures_by_country$DATE_IMPLEMENTED <- as.Date(measures_by_country$DATE_IMPLEMENTED , format = \"%d/%m/%y\")"
   ]
  },
  {
   "cell_type": "code",
   "execution_count": 36,
   "metadata": {},
   "outputs": [],
   "source": [
    "# I join the covid data with the measures dataframe. \n",
    "# I use a full outer join because: there are some measures implemented before the first date available in the time series,\n",
    "# measures have not been implemented every day so we have covid data in some days without measures assigned\n",
    "dataset <- merge(measures_by_country, covid_data_region, by.x = c(\"COUNTRY\",\"DATE_IMPLEMENTED\",\"REGION\"), by.y = c(\"Country.Region\",\"date\",\"Region\"), all = TRUE)"
   ]
  },
  {
   "cell_type": "code",
   "execution_count": 37,
   "metadata": {},
   "outputs": [],
   "source": [
    "# I decide analysing the European situation. I create a subset from the previous dataframe\n",
    "Europe_df <- subset(dataset, REGION == \"Europe\" )"
   ]
  },
  {
   "cell_type": "code",
   "execution_count": 38,
   "metadata": {},
   "outputs": [],
   "source": [
    "# I decided to analyze the trend of cases/deaths for each country\n",
    "# In order to avoid a messy plot I decided to plot the top 10 countries for # of deaths and # of cases\n",
    "# To aim this plot I proceed in this way:\n",
    "# 1- Creating two dataframes with the max # of deaths and max # of cases for each country (I decided for the max because\n",
    "# the data from time series datasets are cumulative):\n",
    "\n",
    "Europe_cases_max <- Europe_df %>% group_by(COUNTRY) %>% summarise_at(vars(cases), ~ max(., na.rm = TRUE)) \n",
    "Europe_deaths_max <- Europe_df %>% group_by(COUNTRY) %>% summarise_at(vars(deaths), ~ max(., na.rm = TRUE))"
   ]
  },
  {
   "cell_type": "code",
   "execution_count": 39,
   "metadata": {},
   "outputs": [],
   "source": [
    "#2 - Creating two dataframes with decreasing order of deaths/cases from previous dataframes\n",
    "top10_Europe_cases <- Europe_cases_max$COUNTRY [order (Europe_cases_max$cases,  decreasing = TRUE)]\n",
    "top10_Europe_deaths <- Europe_deaths_max$COUNTRY [order (Europe_deaths_max$deaths,  decreasing = TRUE)]"
   ]
  },
  {
   "cell_type": "code",
   "execution_count": 40,
   "metadata": {},
   "outputs": [
    {
     "name": "stderr",
     "output_type": "stream",
     "text": [
      "Registered S3 methods overwritten by 'ggplot2':\n",
      "  method         from \n",
      "  [.quosures     rlang\n",
      "  c.quosures     rlang\n",
      "  print.quosures rlang\n"
     ]
    }
   ],
   "source": [
    "library(ggplot2)"
   ]
  },
  {
   "cell_type": "code",
   "execution_count": 41,
   "metadata": {},
   "outputs": [
    {
     "data": {
      "image/png": "[encoded data removed]",
      "text/plain": [
       "plot without title"
      ]
     },
     "metadata": {},
     "output_type": "display_data"
    }
   ],
   "source": [
    "# Plot the trend of cases for the top 10 countries \n",
    "ggplot(data = subset(Europe_df, COUNTRY %in% top10_Europe_cases [1 : 10] & !(is.na(Europe_df$cases))), aes(x=DATE_IMPLEMENTED, y=cases, group=COUNTRY)) +\n",
    "  geom_line(aes(color=COUNTRY))+\n",
    "  geom_point(aes(color=COUNTRY))+\n",
    "  xlab(\"\")+\n",
    "  ylab(\"# case confirmed\")+\n",
    "  theme(legend.position=\"top\")"
   ]
  },
  {
   "cell_type": "code",
   "execution_count": 42,
   "metadata": {},
   "outputs": [
    {
     "data": {
      "image/png": "[encoded data removed]",
      "text/plain": [
       "plot without title"
      ]
     },
     "metadata": {},
     "output_type": "display_data"
    }
   ],
   "source": [
    "# Plot the trend of deaths for the top 10 countries\n",
    "ggplot(data = subset(Europe_df, COUNTRY %in% top10_Europe_deaths [1 : 10] & !(is.na(Europe_df$deaths))), aes(x=DATE_IMPLEMENTED, y=deaths, group=COUNTRY)) +\n",
    "  geom_line(aes(color=COUNTRY))+\n",
    "  geom_point(aes(color=COUNTRY))+\n",
    "  xlab(\"\")+\n",
    "  ylab(\"# deaths\")+\n",
    "  theme(legend.position=\"top\")"
   ]
  },
  {
   "cell_type": "code",
   "execution_count": 43,
   "metadata": {},
   "outputs": [],
   "source": [
    "# Most part of the countries are falling in the top 10 for both # of deaths and # of cases (Italy, Germany, France, Spain,\n",
    "# United Kingdom, Russia)\n",
    "# The Russian trends have picked my attention because the # of cases seem increased in May more than in the other countries \n",
    "# the # of deaths, on the otherhand, has been the lowest.\n",
    "# The German situation is interesting as well because,despite the high # of cases (very similar to the French trend),\n",
    "# it has registered a lower trend of deaths."
   ]
  },
  {
   "cell_type": "code",
   "execution_count": 44,
   "metadata": {},
   "outputs": [],
   "source": [
    "# I decided to analyze the relation (if existing) between the # of measures implemented by each government and the \n",
    "# of deaths through a scatter plot\n",
    "\n",
    "# To build the plot I proceed in this way:\n",
    "# 1- Create a first dataframe with max # of detahs and max # of cases for each countries\n",
    "first_df <- Europe_df %>% group_by(COUNTRY) %>% summarise(max(deaths, na.rm = TRUE), max(cases, na.rm = TRUE))"
   ]
  },
  {
   "cell_type": "code",
   "execution_count": 45,
   "metadata": {},
   "outputs": [],
   "source": [
    "# 2- Create a second dataframe with # of measures for each country:\n",
    "second_df <- subset(Europe_df, !(is.na(Europe_df$CATEGORY))) %>% group_by(COUNTRY) %>% count()"
   ]
  },
  {
   "cell_type": "code",
   "execution_count": 46,
   "metadata": {},
   "outputs": [],
   "source": [
    "# 3- Create the dataframe for the scatter plot merging the two previous ones:\n",
    "scatter_df <- merge(first_df, second_df)\n",
    "\n",
    "colnames(scatter_df)[2] <- \"deaths\"\n",
    "colnames(scatter_df)[3] <- \"cases\"\n",
    "colnames(scatter_df)[4] <- \"measures\""
   ]
  },
  {
   "cell_type": "code",
   "execution_count": 47,
   "metadata": {},
   "outputs": [],
   "source": [
    "# I plot only the top 10 countries for # of deaths. I create a subset from the previous dataframe:\n",
    "scatter_df <- subset(scatter_df, COUNTRY %in% top10_Europe_deaths [1 : 10])"
   ]
  },
  {
   "cell_type": "code",
   "execution_count": 48,
   "metadata": {},
   "outputs": [
    {
     "data": {
      "image/png": "[encoded data removed]",
      "text/plain": [
       "plot without title"
      ]
     },
     "metadata": {},
     "output_type": "display_data"
    }
   ],
   "source": [
    "# Scatterplot with # of measures and # of deaths for the top 10 countries:\n",
    "ggplot(scatter_df, aes(x=measures, y = deaths, color = COUNTRY)) +\n",
    "  geom_point() +\n",
    "  geom_text(\n",
    "    label = scatter_df$COUNTRY,\n",
    "    nudge_x = 0.25, nudge_y = -0.25,\n",
    "    check_overlap = T\n",
    "  )+\n",
    "  xlab(\"# measures implemented (Mar, Apr, May)\")+\n",
    "  ylab(\"# deaths reached in May\")+\n",
    "  theme(legend.position = \"none\")"
   ]
  },
  {
   "cell_type": "code",
   "execution_count": 49,
   "metadata": {},
   "outputs": [],
   "source": [
    "# The United Kingdom and Switzerland seem to be the only ones that can demonstrate a direct correlation\n",
    "# between the # of measures implemented and the effects on covid letality (United Kingdom with the highest # of deaths\n",
    "# has implemented the lowest # of measures; Switzerland with the lowest # of deaths has implemented one of the highest \n",
    "# # of measures).\n",
    "# What about Russia with low # of measures and low # of deaths?  What about Germany with the same # of measures as Spain\n",
    "# but with a lower # of deaths? What about Italy with the highest # of measures and # of deaths close to england?"
   ]
  },
  {
   "cell_type": "code",
   "execution_count": 50,
   "metadata": {},
   "outputs": [],
   "source": [
    "# I decided to analyze for the countries highlighted above the categories of measures implemented\n",
    "# To plot them I created a dataframe containing the # of measures for each category in each country\n",
    "measures_by_category <- subset(Europe_df, !(is.na(Europe_df$CATEGORY))) %>% group_by(COUNTRY, CATEGORY) %>% count() \n",
    "colnames(measures_by_category)[3] <- \"measures\""
   ]
  },
  {
   "cell_type": "code",
   "execution_count": 56,
   "metadata": {},
   "outputs": [
    {
     "data": {
      "image/png": "[encoded data removed]",
      "text/plain": [
       "plot without title"
      ]
     },
     "metadata": {},
     "output_type": "display_data"
    }
   ],
   "source": [
    "# Plot the # of measures for each category for 5 countries with opposite behaviour (Russia, Germany, France, Italy, Spain)\n",
    "ggplot(data = subset(measures_by_country, COUNTRY %in% list('Russia','France','Italy','Spain','Germany')), aes(x=CATEGORY, fill = COUNTRY )) +\n",
    "  geom_bar(position = position_dodge(width = 0.9))+\n",
    "  xlab(\"\")+\n",
    "  ylab(\"# measures implemented (Mar, Apr, May\")+\n",
    "  theme(legend.position = \"top\", axis.text.x = element_text(size = 6.5))"
   ]
  },
  {
   "cell_type": "code",
   "execution_count": 57,
   "metadata": {},
   "outputs": [],
   "source": [
    "# The German trend could be explained by the higher # of both 'Governance and socio-economic measures' and 'Public health'\n",
    "# Russia have implemented the higher # of 'Movement restrictions' measures. Nevertheless the difference with the Italian \n",
    "# number seems not enough to explain the big difference in the # of deaths.\n",
    "# Analyzing the different categories of measures is not enough to explain the deaths trend.\n",
    "# Probably it could be interesting to match these data with different information such as : population, density population,\n",
    "# type of health system, type of lockdown implemented."
   ]
  },
  {
   "cell_type": "code",
   "execution_count": null,
   "metadata": {},
   "outputs": [],
   "source": []
  }
 ],
 "metadata": {
  "kernelspec": {
   "display_name": "R",
   "language": "R",
   "name": "ir"
  },
  "language_info": {
   "codemirror_mode": "r",
   "file_extension": ".r",
   "mimetype": "text/x-r-source",
   "name": "R",
   "pygments_lexer": "r",
   "version": "3.6.1"
  }
 },
 "nbformat": 4,
 "nbformat_minor": 4
}
